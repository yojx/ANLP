{
 "cells": [
  {
   "cell_type": "markdown",
   "id": "e40ab0e8-07b6-4f92-9917-5bcbc4b895ef",
   "metadata": {},
   "source": [
    "## Log Classification Using LSTM"
   ]
  },
  {
   "cell_type": "code",
   "execution_count": 3,
   "id": "7549c838-0180-4d94-aa62-aafd3e443843",
   "metadata": {},
   "outputs": [],
   "source": [
    "import pandas as pd\n",
    "import numpy as np\n",
    "import matplotlib.pyplot as plt\n",
    "\n",
    "import tensorflow as tf\n",
    "import keras\n",
    "\n",
    "from keras.models import Model\n",
    "from keras.layers import LSTM, Input, Dense, Dropout, Embedding\n",
    "from keras.optimizers import Adam\n",
    "\n",
    "from keras.utils import to_categorical\n",
    "import re"
   ]
  },
  {
   "cell_type": "markdown",
   "id": "071ef5da-4dce-458c-b7a4-4d48e638d8f6",
   "metadata": {},
   "source": [
    "## Read the Data"
   ]
  },
  {
   "cell_type": "code",
   "execution_count": 6,
   "id": "6b67acdc-c569-4a3f-9a50-26c332dffc8d",
   "metadata": {},
   "outputs": [
    {
     "data": {
      "text/html": [
       "<div>\n",
       "<style scoped>\n",
       "    .dataframe tbody tr th:only-of-type {\n",
       "        vertical-align: middle;\n",
       "    }\n",
       "\n",
       "    .dataframe tbody tr th {\n",
       "        vertical-align: top;\n",
       "    }\n",
       "\n",
       "    .dataframe thead th {\n",
       "        text-align: right;\n",
       "    }\n",
       "</style>\n",
       "<table border=\"1\" class=\"dataframe\">\n",
       "  <thead>\n",
       "    <tr style=\"text-align: right;\">\n",
       "      <th></th>\n",
       "      <th>Log</th>\n",
       "      <th>Label</th>\n",
       "    </tr>\n",
       "  </thead>\n",
       "  <tbody>\n",
       "    <tr>\n",
       "      <th>0</th>\n",
       "      <td>143 INFO dfs.DataNode$DataXceiver: Receiving block  src: /10.250.19.102:54106 dest: /10.250.19.102:50010</td>\n",
       "      <td>Normal</td>\n",
       "    </tr>\n",
       "    <tr>\n",
       "      <th>1</th>\n",
       "      <td>35 INFO dfs.FSNamesystem: BLOCK* NameSystem.allocateBlock: /mnt/hadoop/mapred/system/job_200811092030_0001/job.jar.</td>\n",
       "      <td>Normal</td>\n",
       "    </tr>\n",
       "    <tr>\n",
       "      <th>2</th>\n",
       "      <td>143 INFO dfs.DataNode$DataXceiver: Receiving block  src: /10.250.10.6:40524 dest: /10.250.10.6:50010</td>\n",
       "      <td>Normal</td>\n",
       "    </tr>\n",
       "    <tr>\n",
       "      <th>3</th>\n",
       "      <td>145 INFO dfs.DataNode$DataXceiver: Receiving block  src: /10.250.14.224:42420 dest: /10.250.14.224:50010</td>\n",
       "      <td>Normal</td>\n",
       "    </tr>\n",
       "    <tr>\n",
       "      <th>4</th>\n",
       "      <td>145 INFO dfs.DataNode$PacketResponder: PacketResponder 1 for block  terminating</td>\n",
       "      <td>Normal</td>\n",
       "    </tr>\n",
       "  </tbody>\n",
       "</table>\n",
       "</div>"
      ],
      "text/plain": [
       "                                                                                                                   Log  \\\n",
       "0             143 INFO dfs.DataNode$DataXceiver: Receiving block  src: /10.250.19.102:54106 dest: /10.250.19.102:50010   \n",
       "1  35 INFO dfs.FSNamesystem: BLOCK* NameSystem.allocateBlock: /mnt/hadoop/mapred/system/job_200811092030_0001/job.jar.   \n",
       "2                 143 INFO dfs.DataNode$DataXceiver: Receiving block  src: /10.250.10.6:40524 dest: /10.250.10.6:50010   \n",
       "3             145 INFO dfs.DataNode$DataXceiver: Receiving block  src: /10.250.14.224:42420 dest: /10.250.14.224:50010   \n",
       "4                                      145 INFO dfs.DataNode$PacketResponder: PacketResponder 1 for block  terminating   \n",
       "\n",
       "    Label  \n",
       "0  Normal  \n",
       "1  Normal  \n",
       "2  Normal  \n",
       "3  Normal  \n",
       "4  Normal  "
      ]
     },
     "execution_count": 6,
     "metadata": {},
     "output_type": "execute_result"
    }
   ],
   "source": [
    "df = pd.read_csv('./combined_logs_with_labels.csv',delimiter=',', encoding='latin-1')\n",
    "pd.set_option('display.max_colwidth', None)\n",
    "df.head()"
   ]
  },
  {
   "cell_type": "markdown",
   "id": "20e5d9a0-1bf2-480a-bef5-5589b3553757",
   "metadata": {},
   "source": [
    "## Model"
   ]
  },
  {
   "cell_type": "code",
   "execution_count": 9,
   "id": "180a6a68-f457-4403-b614-2657b5be26a6",
   "metadata": {},
   "outputs": [],
   "source": [
    "# making it TF.Data and spliting into 2 datasets\n",
    "df['Label'] = df['Label'].map({'Normal':0,'Anomaly':1})"
   ]
  },
  {
   "cell_type": "markdown",
   "id": "5ec96502-64ff-4ed3-bd6b-148a060e26ec",
   "metadata": {},
   "source": [
    "##### Train-test split ensuring 80% of the anomolous data is within the train dataset"
   ]
  },
  {
   "cell_type": "code",
   "execution_count": 12,
   "id": "4fb89ef0-3598-4e09-a483-23d55eda3428",
   "metadata": {},
   "outputs": [],
   "source": [
    "# Shuffle the entire DataFrame\n",
    "df = df.sample(frac=1, random_state=38).reset_index(drop=True)  # Shuffle the entire dataset\n",
    "\n",
    "# Total samples\n",
    "total_samples = len(df)\n",
    "train_size = int(total_samples * 0.8)  # 80% of the entire dataset for training\n",
    "\n",
    "# Separate the classes\n",
    "normal_samples = df[df['Label'] == 0]\n",
    "anomaly_samples = df[df['Label'] == 1]\n",
    "\n",
    "#print(total_samples) # 19412\n",
    "#print(train_size) # 15529\n",
    "#print(len(normal_samples)) # 17220\n",
    "#print(len(anomaly_samples)) # 2192\n",
    "\n",
    "# Determine the number of Anomaly samples for the training set\n",
    "anomaly_train_size = int(len(anomaly_samples) * 0.8)  # 80% of Anomaly samples\n",
    "normal_train_size = train_size - anomaly_train_size  # Remaining from Normals\n",
    "\n",
    "# Sample from each class\n",
    "normal_train = normal_samples.sample(normal_train_size, random_state=38)\n",
    "anomaly_train = anomaly_samples.sample(anomaly_train_size, random_state=38)\n",
    "#print(len(normal_train)) # 13776\n",
    "#print(len(anomaly_train)) # 1753\n",
    "\n",
    "# Combine the training samples\n",
    "train_df = pd.concat([anomaly_train, normal_train])\n",
    "# Remaining as test samples\n",
    "test_df = pd.concat([anomaly_samples, normal_samples]).drop(train_df.index)\n",
    "\n",
    "\n"
   ]
  },
  {
   "cell_type": "markdown",
   "id": "89e4117a-72d1-41a0-9695-4ade6c6f249a",
   "metadata": {},
   "source": [
    "##### Handling class imbalance"
   ]
  },
  {
   "cell_type": "code",
   "execution_count": 15,
   "id": "034b612b-a481-4f85-b6dd-0ed2dea3724b",
   "metadata": {},
   "outputs": [
    {
     "name": "stdout",
     "output_type": "stream",
     "text": [
      "Weight for class 0: 0.56\n",
      "Weight for class 1: 4.43\n"
     ]
    }
   ],
   "source": [
    "normal = train_df['Label'].value_counts()[0]\n",
    "anomaly = train_df['Label'].value_counts()[1]\n",
    "#normal, anomaly\n",
    "total = normal + anomaly\n",
    "weight_for_0 = (1 / normal) * (total) / 2.0\n",
    "weight_for_1 = (1 / anomaly) * (total) / 2.0\n",
    "\n",
    "class_weight = {0: weight_for_0, 1: weight_for_1} #create a dictionary\n",
    "\n",
    "print(\"Weight for class 0: {:.2f}\".format(weight_for_0))\n",
    "print(\"Weight for class 1: {:.2f}\".format(weight_for_1))"
   ]
  },
  {
   "cell_type": "code",
   "execution_count": 17,
   "id": "1daa5a0e-54e4-4e85-afd6-e2e7991c83a2",
   "metadata": {},
   "outputs": [],
   "source": [
    "seed = 42\n",
    "train_dataset = tf.data.Dataset.from_tensor_slices((train_df['Log'].values, train_df['Label'].values))\n",
    "train_dataset = train_dataset.shuffle(buffer_size=len(df), seed=seed)\n",
    "test_dataset = tf.data.Dataset.from_tensor_slices((test_df['Log'].values, test_df['Label'].values))"
   ]
  },
  {
   "cell_type": "code",
   "execution_count": 19,
   "id": "e4dbb679-0c47-44e4-8665-8957dc2b4e88",
   "metadata": {},
   "outputs": [],
   "source": [
    "# Define the maximum number of words in your vocabulary\n",
    "max_words = 10000\n",
    "# Define the sequence length\n",
    "max_len = 100"
   ]
  },
  {
   "cell_type": "markdown",
   "id": "592fe369-865b-4b8b-9768-a8f638779423",
   "metadata": {},
   "source": [
    "##### Text Vectorization Layer"
   ]
  },
  {
   "cell_type": "code",
   "execution_count": 22,
   "id": "c131da66-183c-4e61-b186-b71f9a709779",
   "metadata": {},
   "outputs": [],
   "source": [
    "from keras.layers import TextVectorization\n",
    "\n",
    "# Create a TextVectorization layer\n",
    "vectorize_layer = TextVectorization(\n",
    "    max_tokens=max_words,\n",
    "    output_mode='int',\n",
    "    output_sequence_length=max_len)"
   ]
  },
  {
   "cell_type": "code",
   "execution_count": 24,
   "id": "9a88905f-c1f4-46c7-93c1-b52a1760ae50",
   "metadata": {},
   "outputs": [],
   "source": [
    "# Adapt the layer to your training data (this builds the vocabulary)\n",
    "text_ds = train_dataset.map(lambda x, y: x) #throw away y\n",
    "vectorize_layer.adapt(text_ds.batch(128))"
   ]
  },
  {
   "cell_type": "code",
   "execution_count": 25,
   "id": "7b22330a-302e-4968-aeaa-56b8385381b9",
   "metadata": {},
   "outputs": [],
   "source": [
    "# batch & prefetch the dataset\n",
    "train_dataset = train_dataset.batch(128).prefetch(tf.data.AUTOTUNE)\n",
    "test_dataset = test_dataset.batch(128).prefetch(tf.data.AUTOTUNE)"
   ]
  },
  {
   "cell_type": "markdown",
   "id": "32e0ed07-06bf-4671-89fc-62faa95eb5f9",
   "metadata": {},
   "source": [
    "##### LSTM"
   ]
  },
  {
   "cell_type": "code",
   "execution_count": 29,
   "id": "4b9a6f66-aa32-4c50-a460-db9d4ca09a89",
   "metadata": {},
   "outputs": [
    {
     "name": "stderr",
     "output_type": "stream",
     "text": [
      "C:\\ProgramData\\anaconda3\\Lib\\site-packages\\keras\\src\\layers\\core\\embedding.py:90: UserWarning: Argument `input_length` is deprecated. Just remove it.\n",
      "  warnings.warn(\n"
     ]
    }
   ],
   "source": [
    "Inp = Input(shape=(1,),dtype=tf.string, name='text_input')\n",
    "x = vectorize_layer(Inp)\n",
    "x = Embedding(max_words, 48, input_length=max_len, name=\"embedding\")(x) #48 is the representation\n",
    "x = LSTM(64, name=\"LSTM\")(x) \n",
    "x = Dense(256, activation='relu', name='Dense_01')(x)\n",
    "x = Dropout(0.7, name='Dropout1')(x)\n",
    "x = Dense(256, activation='relu', name='Dense_02')(x)\n",
    "x = Dropout(0.6, name='Dropout2')(x)\n",
    "out = Dense(1, activation='sigmoid', name='output')(x)"
   ]
  },
  {
   "cell_type": "code",
   "execution_count": 31,
   "id": "aac9e079-5a01-4e8c-b3da-e496baca9105",
   "metadata": {},
   "outputs": [],
   "source": [
    "model = Model(inputs=Inp,outputs=out)"
   ]
  },
  {
   "cell_type": "code",
   "execution_count": 33,
   "id": "1fc1af0f-96c7-42de-8eb7-007644a21f8f",
   "metadata": {},
   "outputs": [],
   "source": [
    "model.compile(loss='binary_crossentropy',\n",
    "              optimizer=keras.optimizers.Adam(),\n",
    "              metrics=['accuracy'])"
   ]
  },
  {
   "cell_type": "code",
   "execution_count": 35,
   "id": "13130599-d933-4b92-96e3-0430edd91fff",
   "metadata": {},
   "outputs": [],
   "source": [
    "from keras.callbacks import EarlyStopping\n",
    "\n",
    "early_stopping = EarlyStopping(monitor='val_accuracy', patience=2, restore_best_weights=True)\n",
    "#prevent overfitting"
   ]
  },
  {
   "cell_type": "code",
   "execution_count": 37,
   "id": "f09b31a1-3af4-4433-acd8-9d90de677403",
   "metadata": {},
   "outputs": [
    {
     "name": "stdout",
     "output_type": "stream",
     "text": [
      "Epoch 1/10\n",
      "\u001b[1m122/122\u001b[0m \u001b[32m━━━━━━━━━━━━━━━━━━━━\u001b[0m\u001b[37m\u001b[0m \u001b[1m22s\u001b[0m 139ms/step - accuracy: 0.6308 - loss: 0.6952 - val_accuracy: 0.1131 - val_loss: 0.6996\n",
      "Epoch 2/10\n",
      "\u001b[1m122/122\u001b[0m \u001b[32m━━━━━━━━━━━━━━━━━━━━\u001b[0m\u001b[37m\u001b[0m \u001b[1m15s\u001b[0m 122ms/step - accuracy: 0.4334 - loss: 0.7004 - val_accuracy: 0.8869 - val_loss: 0.6843\n",
      "Epoch 3/10\n",
      "\u001b[1m122/122\u001b[0m \u001b[32m━━━━━━━━━━━━━━━━━━━━\u001b[0m\u001b[37m\u001b[0m \u001b[1m14s\u001b[0m 114ms/step - accuracy: 0.4586 - loss: 0.7076 - val_accuracy: 0.8869 - val_loss: 0.6803\n",
      "Epoch 4/10\n",
      "\u001b[1m122/122\u001b[0m \u001b[32m━━━━━━━━━━━━━━━━━━━━\u001b[0m\u001b[37m\u001b[0m \u001b[1m14s\u001b[0m 117ms/step - accuracy: 0.7367 - loss: 0.6925 - val_accuracy: 0.8869 - val_loss: 0.6868\n"
     ]
    },
    {
     "data": {
      "text/plain": [
       "<keras.src.callbacks.history.History at 0x211de59c290>"
      ]
     },
     "execution_count": 37,
     "metadata": {},
     "output_type": "execute_result"
    }
   ],
   "source": [
    "model.fit(train_dataset,\n",
    "          epochs=10,\n",
    "          validation_data=test_dataset,\n",
    "          class_weight = class_weight,\n",
    "          callbacks=[early_stopping]\n",
    "          )"
   ]
  },
  {
   "cell_type": "code",
   "execution_count": 39,
   "id": "df51143d-9e9b-4118-99d8-3b18f46ec356",
   "metadata": {},
   "outputs": [
    {
     "name": "stdout",
     "output_type": "stream",
     "text": [
      "\u001b[1m31/31\u001b[0m \u001b[32m━━━━━━━━━━━━━━━━━━━━\u001b[0m\u001b[37m\u001b[0m \u001b[1m2s\u001b[0m 53ms/step - accuracy: 0.6675 - loss: 0.6894\n"
     ]
    },
    {
     "data": {
      "text/plain": [
       "[0.6843394637107849, 0.8869431018829346]"
      ]
     },
     "execution_count": 39,
     "metadata": {},
     "output_type": "execute_result"
    }
   ],
   "source": [
    "model.evaluate(test_dataset)"
   ]
  },
  {
   "cell_type": "markdown",
   "id": "b172a3e9-be65-40dc-af57-0ada4ba5d6ac",
   "metadata": {},
   "source": [
    "## Predicting unseen logs"
   ]
  },
  {
   "cell_type": "code",
   "execution_count": 41,
   "id": "646b4beb-a639-4631-aea9-e3ef98322d4c",
   "metadata": {},
   "outputs": [
    {
     "name": "stdout",
     "output_type": "stream",
     "text": [
      "\u001b[1m1/1\u001b[0m \u001b[32m━━━━━━━━━━━━━━━━━━━━\u001b[0m\u001b[37m\u001b[0m \u001b[1m1s\u001b[0m 575ms/step\n"
     ]
    },
    {
     "data": {
      "text/plain": [
       "array([[0.49426717]], dtype=float32)"
      ]
     },
     "execution_count": 41,
     "metadata": {},
     "output_type": "execute_result"
    }
   ],
   "source": [
    "# This log event is supposed to be Normal\n",
    "text = ['INFO dfs.FSNamesystem: BLOCK* NameSystem.addStoredBlock: blockMap updated: 10.251.66.102:50010 is added to size 67108864']\n",
    "\n",
    "model.predict(tf.constant(text))"
   ]
  },
  {
   "cell_type": "code",
   "execution_count": 51,
   "id": "4e6077df-74c5-4eb8-a15b-47d9c90c7dff",
   "metadata": {},
   "outputs": [
    {
     "name": "stdout",
     "output_type": "stream",
     "text": [
      "\u001b[1m1/1\u001b[0m \u001b[32m━━━━━━━━━━━━━━━━━━━━\u001b[0m\u001b[37m\u001b[0m \u001b[1m0s\u001b[0m 15ms/step\n"
     ]
    },
    {
     "data": {
      "text/plain": [
       "array([[0.49426717]], dtype=float32)"
      ]
     },
     "execution_count": 51,
     "metadata": {},
     "output_type": "execute_result"
    }
   ],
   "source": [
    "# This log event is supposed to be an Anomaly\n",
    "text = ['INFO dfs.FSNamesystem: BLOCK* NameSystem.allocateBlock: /user/root/sortrand/_temporary/_task_200811092030_0002_r_000074_2/part-00074.']\n",
    "\n",
    "model.predict(tf.constant(text))"
   ]
  },
  {
   "cell_type": "markdown",
   "id": "39b688df-90b4-4fcb-8f35-8912244bc178",
   "metadata": {},
   "source": [
    "##### From the results, this model does not seemed to perform well in prediction"
   ]
  },
  {
   "cell_type": "code",
   "execution_count": null,
   "id": "515459a6-3330-4b00-833f-7f6c46ce814c",
   "metadata": {},
   "outputs": [],
   "source": []
  }
 ],
 "metadata": {
  "kernelspec": {
   "display_name": "Python 3 (ipykernel)",
   "language": "python",
   "name": "python3"
  },
  "language_info": {
   "codemirror_mode": {
    "name": "ipython",
    "version": 3
   },
   "file_extension": ".py",
   "mimetype": "text/x-python",
   "name": "python",
   "nbconvert_exporter": "python",
   "pygments_lexer": "ipython3",
   "version": "3.12.4"
  }
 },
 "nbformat": 4,
 "nbformat_minor": 5
}
